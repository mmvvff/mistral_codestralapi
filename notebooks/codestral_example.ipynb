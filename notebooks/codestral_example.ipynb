{
 "cells": [
  {
   "cell_type": "markdown",
   "metadata": {},
   "source": [
    "# How to use Mistral's Codestral API\n",
    "The notebook offers a practical example of integrating the Codestral API into a Python workflow, focusing specifically on the service's FIM and chat completion features.\n",
    "\n",
    "1. Setting up API access\n",
    "2. Defining helper functions\n",
    "3. Using the FIM endpoint\n",
    "4. Using the chat endpoint\n",
    "5. Processing API responses"
   ]
  },
  {
   "cell_type": "markdown",
   "metadata": {},
   "source": [
    "----\n",
    "## 1. Setting up API access:\n",
    "   - Importing necessary libraries (requests, json)\n",
    "   - Loading the API key from a local file"
   ]
  },
  {
   "cell_type": "code",
   "execution_count": 6,
   "metadata": {},
   "outputs": [],
   "source": [
    "import requests\n",
    "import json"
   ]
  },
  {
   "cell_type": "code",
   "execution_count": 7,
   "metadata": {},
   "outputs": [],
   "source": [
    "with open('/Users/manuel/gdrive/_hidden_apikeys/mistral_codestral.txt') as f:\n",
    "    apikey_codestral = f.readline()"
   ]
  },
  {
   "cell_type": "markdown",
   "metadata": {},
   "source": [
    "----\n",
    "## 2. Defining helper functions:\n",
    "   - `call_chat_endpoint()`: Sends requests to the chat completion endpoint\n",
    "   - `call_fim_endpoint()`: Sends requests to the Fill in the Middle (FIM) completion endpoint\n",
    "   - Both functions handle API authentication and error responses"
   ]
  },
  {
   "cell_type": "code",
   "execution_count": 8,
   "metadata": {},
   "outputs": [],
   "source": [
    "def call_chat_endpoint(data, api_key=apikey_codestral):\n",
    "    \"\"\"Calls the Codestral chat completion endpoint.\n",
    "\n",
    "    Args:\n",
    "        data (dict): The data to send to the endpoint.\n",
    "        api_key (str, optional): The API key to use for authorization. Defaults to apikey_codestral.\n",
    "\n",
    "    Returns:\n",
    "        dict or str: The response from the API as a dictionary on success, or an error message on failure.\n",
    "    \"\"\"\n",
    "\n",
    "    # URL for the Codestral chat completion endpoint\n",
    "    url = \"https://codestral.mistral.ai/v1/chat/completions\"\n",
    "\n",
    "    # Headers for the request with authorization, content type, and accept format\n",
    "    headers = {\n",
    "        \"Authorization\": f\"Bearer {api_key}\",\n",
    "        \"Content-Type\": \"application/json\",\n",
    "        \"Accept\": \"application/json\"\n",
    "    }\n",
    "\n",
    "    # Send a POST request with data and headers\n",
    "    response = requests.post(url, headers=headers, data=json.dumps(data))\n",
    "\n",
    "    # Check successful response status code\n",
    "    if response.status_code == 200:\n",
    "        # Return the JSON response data if successful\n",
    "        return response.json()\n",
    "    else:\n",
    "        # Return an error message with status code and response text on failure\n",
    "        return f\"Error: {response.status_code}, {response.text}\"\n",
    "\n",
    "def call_fim_endpoint(data, api_key=apikey_codestral):\n",
    "    \"\"\"Calls the Codestral Fill in the Middle completion endpoint.\n",
    "\n",
    "    Args:\n",
    "        data (dict): The data to send to the endpoint.\n",
    "        api_key (str, optional): The API key to use for authorization. Defaults to apikey_codestral.\n",
    "\n",
    "    Returns:\n",
    "        dict or str: The response from the API as a dictionary on success, or an error message on failure.\n",
    "    \"\"\"\n",
    "\n",
    "    # URL for the Codestral FIM completion endpoint\n",
    "    url = \"https://codestral.mistral.ai/v1/fim/completions\"\n",
    "\n",
    "   # Headers for the request with authorization, content type, and accept format\n",
    "    headers = {\n",
    "        \"Authorization\": f\"Bearer {api_key}\",\n",
    "        \"Content-Type\": \"application/json\",\n",
    "        \"Accept\": \"application/json\"\n",
    "    }\n",
    "\n",
    "    # Send a POST request with data and headers\n",
    "    response = requests.post(url, headers=headers, data=json.dumps(data))\n",
    "\n",
    "    # Check successful response status code\n",
    "    if response.status_code == 200:\n",
    "        # Return JSON response data on success\n",
    "        return response.json()\n",
    "    else:\n",
    "        # Return error message on failure (same as call_chat_endpoint)\n",
    "        return f\"Error: {response.status_code}, {response.text}\"\n"
   ]
  },
  {
   "cell_type": "markdown",
   "metadata": {},
   "source": [
    "----\n",
    "## 3. Using the FIM endpoint:\n",
    "We structure a prompt with a prefix and suffix\n",
    "We send a request to complete a Python function for inserting a node in a linked list"
   ]
  },
  {
   "cell_type": "code",
   "execution_count": 9,
   "metadata": {},
   "outputs": [
    {
     "data": {
      "text/plain": [
       "{'id': '5329dc539968454890bd103ca09d6c43',\n",
       " 'object': 'chat.completion',\n",
       " 'created': 1720131776,\n",
       " 'model': 'codestral-latest',\n",
       " 'choices': [{'index': 0,\n",
       "   'message': {'role': 'assistant',\n",
       "    'content': '    new_node = SinglyLinkedListNode(data)\\n    if position == 0:\\n        new_node.next = llist\\n        return new_node\\n    else:\\n        current_node = llist\\n        for i in range(position - 1):\\n            current_node = current_node.next\\n        new_node.next = current_node.next\\n        current_node.next = new_node\\n        return llist',\n",
       "    'tool_calls': None},\n",
       "   'finish_reason': 'stop',\n",
       "   'logprobs': None}],\n",
       " 'usage': {'prompt_tokens': 106,\n",
       "  'total_tokens': 207,\n",
       "  'completion_tokens': 101}}"
      ]
     },
     "execution_count": 9,
     "metadata": {},
     "output_type": "execute_result"
    }
   ],
   "source": [
    "prompt = \"\"\"\n",
    "def insertNodeAtPosition(llist, data, position):\n",
    "\"\"\"\n",
    "suffix = \"\"\"\n",
    "    data = 1\n",
    "    position = 2\n",
    "    list = [16, 13, 7]\n",
    "    llist = SinglyLinkedList()\n",
    "    for n in list:\n",
    "        llist.insert_node(n)\n",
    "    llist_head = insertNodeAtPosition(llist.head, data, position)\n",
    "    print(llist_head)\n",
    "    \"\"\"\n",
    "data = {\n",
    "    \"model\": \"codestral-latest\",\n",
    "    \"prompt\": prompt,\n",
    "    \"suffix\": suffix,\n",
    "    \"temperature\": 0\n",
    "}\n",
    "\n",
    "response_fim = call_fim_endpoint(data)\n",
    "response_fim"
   ]
  },
  {
   "cell_type": "markdown",
   "metadata": {},
   "source": [
    "----\n",
    "## 4. Using the chat endpoint:\n",
    "We request a function to access a specific key from the result from earlier `response_fim`."
   ]
  },
  {
   "cell_type": "code",
   "execution_count": 10,
   "metadata": {},
   "outputs": [
    {
     "data": {
      "text/plain": [
       "{'id': '1131612a28a64f479b1793e6e69ef69c',\n",
       " 'object': 'chat.completion',\n",
       " 'created': 1720131777,\n",
       " 'model': 'codestral-latest',\n",
       " 'choices': [{'index': 0,\n",
       "   'message': {'role': 'assistant',\n",
       "    'content': \"Here is a Python function that can be used to access the `contents` key from the given JSON:\\n\\n```python\\ndef get_contents(json_data):\\n    return json_data['choices'][0]['message']['content']\\n\\n# Given JSON\\njson_data = {\\n    'id': '5329dc539968454890bd103ca09d6c43',\\n    'object': 'chat.completion',\\n    'created': 1720131776,\\n    'model': 'codestral-latest',\\n    'choices': [\\n        {\\n            'index': 0,\\n            'message': {\\n                'role': 'assistant',\\n                'content': '    new_node = SinglyLinkedListNode(data)\\\\n    if position == 0:\\\\n        new_node.next = llist\\\\n        return new_node\\\\n    else:\\\\n        current_node = llist\\\\n        for i in range(position - 1):\\\\n            current_node = current_node.next\\\\n        new_node.next = current_node.next\\\\n        current_node.next = new_node\\\\n        return llist',\\n                'tool_calls': None\\n            },\\n            'finish_reason': 'stop',\\n            'logprobs': None\\n        }\\n    ],\\n    'usage': {\\n        'prompt_tokens': 106,\\n        'total_tokens': 207,\\n        'completion_tokens': 101\\n    }\\n}\\n\\n# Accessing the 'contents' key\\ncontents = get_contents(json_data)\\nprint(contents)\\n```\\n\\nThis function will return the content of the `content` key which is nested inside the `message` key, which is further nested inside the `choices` key in the given JSON.\",\n",
       "    'tool_calls': None},\n",
       "   'finish_reason': 'stop',\n",
       "   'logprobs': None}],\n",
       " 'usage': {'prompt_tokens': 286,\n",
       "  'total_tokens': 728,\n",
       "  'completion_tokens': 442}}"
      ]
     },
     "execution_count": 10,
     "metadata": {},
     "output_type": "execute_result"
    }
   ],
   "source": [
    "prompt = f\"\"\"\n",
    "Given the following json, write function to access `contents` key from the following json:\n",
    "{response_fim}\n",
    "\"\"\"\n",
    "data = {\n",
    "    \"model\": \"codestral-latest\",\n",
    "    \"messages\": [\n",
    "        {\n",
    "            \"role\": \"user\",\n",
    "            \"content\": prompt\n",
    "        }\n",
    "    ],\n",
    "    \"temperature\": 0\n",
    "}\n",
    "\n",
    "call_chat_endpoint(data)"
   ]
  },
  {
   "cell_type": "markdown",
   "metadata": {},
   "source": [
    "----\n",
    "## 5. Processing API responses:\n",
    "We use the above output to define the `jsonresponse_content()` function, which extracts the generated content from Codestral API responses."
   ]
  },
  {
   "cell_type": "code",
   "execution_count": 11,
   "metadata": {},
   "outputs": [],
   "source": [
    "def jsonresponse_content(response):\n",
    "  \"\"\"\n",
    "  Extracts the content from the 'message' key within the first choice of the provided JSON data.\n",
    "\n",
    "  Args:\n",
    "      data (dict): The JSON data containing the information.\n",
    "\n",
    "  Returns:\n",
    "      str: The content string retrieved from the 'message' key, or None if not found.\n",
    "  \"\"\"\n",
    "  # Check if 'choices' key exists\n",
    "  if not response['choices'][0]['message']['content']:\n",
    "    return None\n",
    "  else:\n",
    "    return response['choices'][0]['message']['content']"
   ]
  },
  {
   "cell_type": "code",
   "execution_count": 12,
   "metadata": {},
   "outputs": [
    {
     "name": "stdout",
     "output_type": "stream",
     "text": [
      "    new_node = SinglyLinkedListNode(data)\n",
      "    if position == 0:\n",
      "        new_node.next = llist\n",
      "        return new_node\n",
      "    else:\n",
      "        current_node = llist\n",
      "        for i in range(position - 1):\n",
      "            current_node = current_node.next\n",
      "        new_node.next = current_node.next\n",
      "        current_node.next = new_node\n",
      "        return llist\n"
     ]
    }
   ],
   "source": [
    "print(jsonresponse_content(response_fim))"
   ]
  }
 ],
 "metadata": {
  "kernelspec": {
   "display_name": "pandas_scikit",
   "language": "python",
   "name": "python3"
  },
  "language_info": {
   "codemirror_mode": {
    "name": "ipython",
    "version": 3
   },
   "file_extension": ".py",
   "mimetype": "text/x-python",
   "name": "python",
   "nbconvert_exporter": "python",
   "pygments_lexer": "ipython3",
   "version": "3.11.9"
  }
 },
 "nbformat": 4,
 "nbformat_minor": 2
}
